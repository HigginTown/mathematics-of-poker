{
 "cells": [
  {
   "cell_type": "markdown",
   "metadata": {},
   "source": [
    "# Mathematics of Poker\n",
    "\n",
    "### Part 1, Chapter 2:  Predicting the Future and Sample Outcomes"
   ]
  },
  {
   "cell_type": "code",
   "execution_count": 51,
   "metadata": {},
   "outputs": [
    {
     "data": {
      "text/plain": [
       "0.5516787352796411"
      ]
     },
     "execution_count": 51,
     "metadata": {},
     "output_type": "execute_result"
    }
   ],
   "source": [
    "# Page 28 -- Calculating winning session probabilities given player session statistics\n",
    "\n",
    "from scipy.stats import norm\n",
    "from numpy import std, sqrt\n",
    "\n",
    "def win_session_probability(winrate, standard_deviation, hands_played, greater_than=0):\n",
    "    \"\"\"Calculate the probability that a given poker session will be a winning one given some player statitics\n",
    "    \n",
    "    Parameters\n",
    "    ----------\n",
    "    \n",
    "    winrate: float\n",
    "        the player winrate in units per hand. This is also the expectation. \n",
    "        \n",
    "    standard_deviation: float \n",
    "        the standardard deviation over the same interval of hands used to calculate the winrate\n",
    "        for example, if you have play 10 hands and have winnings of [0, 1, 1, 0, -2, 10, -2, 0, 0, 1] = 9 units\n",
    "        then your winrate = 9 / 10 => 0.9 units per hand and your standard deviation is 3.38\n",
    "        \n",
    "    hands_played: int\n",
    "        the number of hands for which we will provide an estimate\n",
    "        \n",
    "    greater_than: int\n",
    "        default to 0\n",
    "        The outcome we are interested in\n",
    "        if set to x, this function returns the probability that the player earns greater than x units\n",
    "        \n",
    "        \n",
    "    Returns\n",
    "    -------\n",
    "    \n",
    "    probability: float\n",
    "        the probability the player has a winning session. \n",
    "        This is equal to:\n",
    "            1 - phi(z_score)    \n",
    "    \"\"\"\n",
    "    \n",
    "    # first we need to get the expectation over the sample \n",
    "    # this is just equal to the winrate * sample_size\n",
    "    \n",
    "    expected_value_over_sample = winrate * hands_played\n",
    "\n",
    "    \n",
    "    \n",
    "    # next we will calculate the standard deviation over hands_played\n",
    "    \n",
    "    sigma_over_hands = sqrt(hands_played) * standard_deviation\n",
    "    \n",
    "    \n",
    "    \n",
    "    # now that we have both of these values, we can calculate the z-score\n",
    "    # the z-score is passed into the CDF to get the probability estimate\n",
    "    \n",
    "    z_score = (greater_than - expected_value_over_sample) / sigma_over_hands # 0 here because we care only about winning or losing\n",
    "    \n",
    "    \n",
    "    # pass that to the CDF function\n",
    "    \n",
    "    phi_of_z = norm.cdf(z_score)\n",
    "    \n",
    "    \n",
    "    # we take 1 - phi_of_z because that function returns the probability that the outcome will be LESS than 0\n",
    "    return 1-phi_of_z\n",
    "\n",
    "\n",
    "\n",
    "# verify against the page in the book\n",
    "win_session_probability(0.015, 2, 300)\n",
    "\n",
    "# 0.5517 is correct"
   ]
  },
  {
   "cell_type": "code",
   "execution_count": null,
   "metadata": {},
   "outputs": [],
   "source": []
  }
 ],
 "metadata": {
  "kernelspec": {
   "display_name": "Python 3",
   "language": "python",
   "name": "python3"
  },
  "language_info": {
   "codemirror_mode": {
    "name": "ipython",
    "version": 3
   },
   "file_extension": ".py",
   "mimetype": "text/x-python",
   "name": "python",
   "nbconvert_exporter": "python",
   "pygments_lexer": "ipython3",
   "version": "3.7.3"
  }
 },
 "nbformat": 4,
 "nbformat_minor": 2
}
