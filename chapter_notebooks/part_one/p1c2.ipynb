{
 "cells": [
  {
   "cell_type": "markdown",
   "metadata": {},
   "source": [
    "# Mathematics of Poker\n",
    " Part 1, Chapter 2:  Predicting the Future and Sample Outcomes\n",
    "\n",
    "-----------------------\n",
    "\n",
    "### [I. Calculating Winning Sessions from Player Stats](#akaq)\n",
    "Page 28\n",
    "### [II. AK v AQ Story](#wins)\n",
    "Pages 29-30\n",
    "### [III. Law of Large Numbers Player with Example](#lln)\n",
    "Page 31\n",
    "\n",
    "\n",
    "-----------------\n"
   ]
  },
  {
   "cell_type": "markdown",
   "metadata": {},
   "source": [
    "### I. Calculating Winning Sessions from Player Stats <a name=\"wins\"></a>\n",
    "\n",
    "In this section we answer some real life questions which require deploying our recently learned probability concepts "
   ]
  },
  {
   "cell_type": "code",
   "execution_count": 98,
   "metadata": {},
   "outputs": [
    {
     "data": {
      "text/plain": [
       "0.5516787352796411"
      ]
     },
     "execution_count": 98,
     "metadata": {},
     "output_type": "execute_result"
    }
   ],
   "source": [
    "from scipy.stats import norm # norm.cdf for the cumulative normal distribution function\n",
    "from numpy import std, sqrt # for probability calculations\n",
    "import numpy as np # other numpy convenience functions \n",
    "\n",
    "def win_session_probability(winrate, standard_deviation, hands_played, greater_than=0):\n",
    "    \"\"\"Calculate probability that a poker session will be a winning one given some player statitics\n",
    "    \n",
    "    Parameters\n",
    "    ----------\n",
    "    \n",
    "    winrate: float\n",
    "        the player winrate in units per hand. This is also the expectation. \n",
    "        \n",
    "    standard_deviation: float \n",
    "        the standardard deviation over the same interval of hands used to calculate the winrate\n",
    "        for example, if you have play 10 hands and have winnings of \n",
    "        [0, 1, 1, 0, -2, 10, -2, 0, 0, 1] => 9 units\n",
    "        then your winrate = sum(winnings)/total_hands => 0.9 units per hand \n",
    "        and your standard deviation is 3.38 -- calculate this on your own\n",
    "        \n",
    "    hands_played: int\n",
    "        the number of hands for which we will provide an estimate\n",
    "        \n",
    "    greater_than: int\n",
    "        default to 0\n",
    "        The outcome we are interested in\n",
    "        if set to x, this function returns the probability that the player earns greater than x units\n",
    "        \n",
    "        \n",
    "    Returns\n",
    "    -------\n",
    "    \n",
    "    probability: float\n",
    "        the probability the player has a winning session. \n",
    "        This is equal to:\n",
    "            1 - phi(z_score)    \n",
    "    \"\"\"\n",
    "    \n",
    "    # first we need to get the expectation over the sample \n",
    "    # this is just equal to the winrate * sample_size\n",
    "    \n",
    "    expected_value_over_sample = winrate * hands_played\n",
    "    \n",
    "    \n",
    "    # next we will calculate the standard deviation over hands_played\n",
    "    \n",
    "    sigma_over_hands = sqrt(hands_played) * standard_deviation\n",
    "    \n",
    "    \n",
    "    # now that we have both of these values, we can calculate the z-score\n",
    "    # the z-score is passed into the CDF to get the probability estimate\n",
    "    \n",
    "    z_score = (greater_than - expected_value_over_sample) / sigma_over_hands \n",
    "    \n",
    "    # pass that to the CDF function\n",
    "    phi_of_z = norm.cdf(z_score)\n",
    "    \n",
    "    \n",
    "    # we take 1 - phi_of_z because that function returns the probability that the outcome will be LESS than 0\n",
    "    return 1-phi_of_z\n",
    "\n",
    "\n",
    "\n",
    "# verify against the page in the book\n",
    "win_session_probability(0.015, 2, 300)\n",
    "\n",
    "# 0.5517 is correct"
   ]
  },
  {
   "cell_type": "markdown",
   "metadata": {},
   "source": [
    "Now we can answer some more general questions. \n",
    "\n",
    "**What is the probability a player with these statistics will win at least 100 units over 3000 hands?**"
   ]
  },
  {
   "cell_type": "code",
   "execution_count": 85,
   "metadata": {},
   "outputs": [
    {
     "data": {
      "text/plain": [
       "0.30780597184951286"
      ]
     },
     "execution_count": 85,
     "metadata": {},
     "output_type": "execute_result"
    }
   ],
   "source": [
    "# plug it in\n",
    "win_session_probability(winrate=0.015, standard_deviation=2, hands_played=3000, greater_than=100)"
   ]
  },
  {
   "cell_type": "markdown",
   "metadata": {},
   "source": [
    "This player should expect to win at least 100 units over 3000 hands about 30% of the time with a winrate of 0.015 units per hand and a standard deviation of 2 over the same interval. "
   ]
  },
  {
   "cell_type": "markdown",
   "metadata": {},
   "source": [
    "### II. AK - AQ Story <a name=\"akaq\"></a>\n",
    "\n",
    "Pages 29-30\n",
    "\n",
    "---------------\n",
    "\n",
    "One player claimed that over a sample of around 2000 hands, AK v AQ were running 50-50. Is this player telling the truth? is the site rigged? we don't know, but how likely is this? "
   ]
  },
  {
   "cell_type": "code",
   "execution_count": 86,
   "metadata": {},
   "outputs": [],
   "source": [
    "# If we assign a value of 1 when AK wins and 0 when AQ wins, then the expectation (or mean) is 0.735\n",
    "# we'll get the probability that AQ wins 50% or more of the time\n",
    "\n",
    "\n",
    "def check_ak_aq():\n",
    "    \"\"\"Proceed as we did in the equation above\"\"\"\n",
    "    \n",
    "    NUM_HANDS = 2000\n",
    "    \n",
    "\n",
    "    # AK v AQ is about 73.5% all in preflop. \n",
    "    # one of our first tasks is to define the mean over the sample\n",
    "    \n",
    "    expectation = 0.735 \n",
    "    expectation_over_sample = expectation * NUM_HANDS # since this scenario has 2000 hands \n",
    "    \n",
    "    # next we need to calculate the standard deviation over this sample \n",
    "    # Variance = prob_win*(1-expectation)^2 + prob_lose(0-expectation)^2 => sigma^2\n",
    "    \n",
    "    variance = 0.735 * (1-expectation)**2 + (1 - 0.735) * (0 - expectation )**2\n",
    "    \n",
    "    # now we can get sigma\n",
    "    sigma = sqrt(variance)\n",
    "    \n",
    "    # and then multiply it over the number of hands\n",
    "    sigma_over_hands = sqrt(NUM_HANDS) * sigma\n",
    "                        \n",
    "        \n",
    "    # then we get the z score\n",
    "    # we use NUM_HANDS*.5 = 1000 here because we are interested in the chance that AQ wins more than 50% or 1000 hands\n",
    "    \n",
    "    z_score = (1000 - expectation_over_sample) / sigma_over_hands\n",
    "    print(\"Number of Standard Deviations from the mean estimate:\", abs(z_score), \"\\n\")\n",
    "    \n",
    "    # then we calculate phi(z_score)\n",
    "    \n",
    "    print(\"Probability: \")                    \n",
    "    return norm.cdf(z_score)\n",
    "    "
   ]
  },
  {
   "cell_type": "code",
   "execution_count": 32,
   "metadata": {},
   "outputs": [
    {
     "name": "stdout",
     "output_type": "stream",
     "text": [
      "Number of Standard Deviations from the mean estimate: 23.81311742871408 \n",
      "\n",
      "Probability: \n"
     ]
    },
    {
     "data": {
      "text/plain": [
       "1.221311050119768e-125"
      ]
     },
     "execution_count": 32,
     "metadata": {},
     "output_type": "execute_result"
    }
   ],
   "source": [
    "# check the results\n",
    "check_ak_aq()"
   ]
  },
  {
   "cell_type": "markdown",
   "metadata": {},
   "source": [
    "**EXCERCISE** \n",
    "\n",
    "Modify the function above to take arbitrary numeroc inputs for the expectation and sample size. Consider looking up some other preflop all in hand v hand equities and using those? \n",
    "\n",
    "\n",
    "Suppose you play AA v KK 5 times. What is the probability that you lose 3 or more times? Win at least once?"
   ]
  },
  {
   "cell_type": "markdown",
   "metadata": {},
   "source": [
    "### III. Law of Large Numbers Player with Examples <a name=\"lln\"></a>"
   ]
  },
  {
   "cell_type": "code",
   "execution_count": 87,
   "metadata": {},
   "outputs": [
    {
     "data": {
      "text/plain": [
       "(75.0, 831.97, -1588.94, 1738.94)"
      ]
     },
     "execution_count": 87,
     "metadata": {},
     "output_type": "execute_result"
    }
   ],
   "source": [
    "# We will draw samples from the probability distribution and record the results in a table as they do in the book\n",
    "# our results will not be exactly the same, but will be similar enough for this purpose\n",
    "\n",
    "\n",
    "def create_data(num_hands, player_winrate, variance_per_hand):\n",
    "    \"\"\"Given a number of hands, player win rate per 100 hands, and variance per hand, \n",
    "    identify \n",
    "    - the mean `mu_n`, \n",
    "    - the standard deviation `sigma`, \n",
    "    - and the two end points of the 95.5% probability interval \n",
    "        (ie plus or minus 2 standard deviations from the mean)\n",
    "    \n",
    "    Parameters\n",
    "    ----------\n",
    "    \n",
    "    num_hands: int\n",
    "        the number of hands for the sample\n",
    "        \n",
    "    player_winrate: float\n",
    "        the players win rate per 100 hands.\n",
    "        Note that in the book they give it per 100 hands here, but *per hand* in the previous example\n",
    "        Since we want to follow the text, here the win rate is per 100 hands. This is the same units as the variance/100. \n",
    "        \n",
    "    variance_per_hand: float\n",
    "        the variance per hand. The larger the stakes, the larger we expect the variance to be in general. \n",
    "        Same units as the player_win_rate * 100. \n",
    "    \n",
    "    \n",
    "    Returns\n",
    "    -------\n",
    "    \n",
    "    data: tuple\n",
    "        (mu_n, sigma, lower endpoint, higher endpoint)\n",
    "    \n",
    "    \"\"\"\n",
    "    \n",
    "    # how do we draw samples? \n",
    "    # we can draw samples from a normal distribution with a given mean and standard deviation with numpy\n",
    "    # but we'll need to use our given information to derive them\n",
    "    \n",
    "    \n",
    "    # first we'll get mu_n\n",
    "    \n",
    "    # first address the win rate param\n",
    "    dist_mean = player_winrate / 100.0\n",
    "    \n",
    "    # mu_n is simply equal to the dist_mean * num_hands\n",
    "    mu_n = dist_mean * num_hands\n",
    "    \n",
    "    \n",
    "    # now we can get sigma\n",
    "    # to do this we need to draw samples from the population\n",
    "    # to do that, we'll need to first take the square of the variance per hand\n",
    "    \n",
    "    # the standard deviation\n",
    "    sd = sqrt(variance_per_hand)\n",
    "    \n",
    "    # create an array of samples\n",
    "    # loc is the mean, scale is the standard deviation\n",
    "    sample = np.random.normal(loc=75, scale=sd, size=num_hands)\n",
    "    \n",
    "    # get the standard deviation *of the sample* to return later\n",
    "    sigma = sqrt(num_hands)*std(sample, ddof=1)\n",
    "    \n",
    "    \n",
    "    # now we can calculate the lower and upper bounds as well\n",
    "    \n",
    "    lower_bound = mu_n - 2 * sigma\n",
    "    upper_bound = mu_n + 2 * sigma\n",
    "    \n",
    "    return (mu_n, round(sigma,2), round(lower_bound,2), round(upper_bound,2))\n",
    "    \n",
    "    \n",
    "# test a sample\n",
    "create_data(num_hands=100, player_winrate=75, variance_per_hand=6400)"
   ]
  },
  {
   "cell_type": "markdown",
   "metadata": {},
   "source": [
    "Now we can generate some samples and observe the data"
   ]
  },
  {
   "cell_type": "code",
   "execution_count": 88,
   "metadata": {},
   "outputs": [
    {
     "data": {
      "text/html": [
       "<table border=\"1\" class=\"dataframe\">\n",
       "  <thead>\n",
       "    <tr style=\"text-align: right;\">\n",
       "      <th></th>\n",
       "      <th>Mu_N</th>\n",
       "      <th>Sigma</th>\n",
       "      <th>Lower endpoint</th>\n",
       "      <th>Higer endpoint</th>\n",
       "    </tr>\n",
       "    <tr>\n",
       "      <th>Hands</th>\n",
       "      <th></th>\n",
       "      <th></th>\n",
       "      <th></th>\n",
       "      <th></th>\n",
       "    </tr>\n",
       "  </thead>\n",
       "  <tbody>\n",
       "    <tr>\n",
       "      <th>100</th>\n",
       "      <td>75.0</td>\n",
       "      <td>908.57</td>\n",
       "      <td>-1742.14</td>\n",
       "      <td>1892.14</td>\n",
       "    </tr>\n",
       "    <tr>\n",
       "      <th>500</th>\n",
       "      <td>375.0</td>\n",
       "      <td>1801.10</td>\n",
       "      <td>-3227.20</td>\n",
       "      <td>3977.20</td>\n",
       "    </tr>\n",
       "    <tr>\n",
       "      <th>1000</th>\n",
       "      <td>750.0</td>\n",
       "      <td>2475.07</td>\n",
       "      <td>-4200.14</td>\n",
       "      <td>5700.14</td>\n",
       "    </tr>\n",
       "    <tr>\n",
       "      <th>5000</th>\n",
       "      <td>3750.0</td>\n",
       "      <td>5677.74</td>\n",
       "      <td>-7605.48</td>\n",
       "      <td>15105.48</td>\n",
       "    </tr>\n",
       "    <tr>\n",
       "      <th>25000</th>\n",
       "      <td>18750.0</td>\n",
       "      <td>12711.51</td>\n",
       "      <td>-6673.03</td>\n",
       "      <td>44173.03</td>\n",
       "    </tr>\n",
       "    <tr>\n",
       "      <th>50000</th>\n",
       "      <td>37500.0</td>\n",
       "      <td>17829.84</td>\n",
       "      <td>1840.33</td>\n",
       "      <td>73159.67</td>\n",
       "    </tr>\n",
       "    <tr>\n",
       "      <th>100000</th>\n",
       "      <td>75000.0</td>\n",
       "      <td>25245.93</td>\n",
       "      <td>24508.14</td>\n",
       "      <td>125491.86</td>\n",
       "    </tr>\n",
       "    <tr>\n",
       "      <th>1000000</th>\n",
       "      <td>750000.0</td>\n",
       "      <td>79993.38</td>\n",
       "      <td>590013.24</td>\n",
       "      <td>909986.76</td>\n",
       "    </tr>\n",
       "  </tbody>\n",
       "</table>"
      ],
      "text/plain": [
       "<IPython.core.display.HTML object>"
      ]
     },
     "execution_count": 88,
     "metadata": {},
     "output_type": "execute_result"
    }
   ],
   "source": [
    "# for the pretty printed dataframe with a spreadsheet like view\n",
    "import pandas as pd\n",
    "from IPython.display import HTML\n",
    "\n",
    "# first set the sample sizes we intend to draw\n",
    "# low end is 100, high end is 100k\n",
    "SAMPLE_SIZE_LIST = [100, 500, 1000, 5000, 25000, 50000, 100000, 1000000]\n",
    "TABLE_COLUMN_NAMES = ['Mu_N','Sigma', 'Lower endpoint', 'Higer endpoint']\n",
    "\n",
    "# create the data for all the sample size\n",
    "data = [create_data(num_hands=sample_size, player_winrate=75, variance_per_hand=6400) for sample_size in SAMPLE_SIZE_LIST]\n",
    "\n",
    "df = pd.DataFrame(data=data, columns=TABLE_COLUMN_NAMES, index=SAMPLE_SIZE_LIST)\n",
    "df.index.name = 'Hands'\n",
    "\n",
    "# renders\n",
    "HTML(df.to_html())"
   ]
  },
  {
   "cell_type": "markdown",
   "metadata": {},
   "source": [
    "Now, the authors mention that \n",
    "\n",
    "```\n",
    "Comparing the standard deviation of one million hands to the standard deviation for one hundred hands, \n",
    "the size of the standard deviationis a hundered times as large in absolute terms, \n",
    "but more than a hundred times smaller relative to the number of hands. \n",
    "This is the **law of large numbers** at work. \n",
    "The larger the sample, the closer on a relative basis the outcomes of the sample will be. \n",
    "```\n",
    "\n",
    "Given the data above, how can we visualize this?  Let's calculate the ratio of the standard deviation to the number of hands and plot this. "
   ]
  },
  {
   "cell_type": "code",
   "execution_count": 124,
   "metadata": {},
   "outputs": [
    {
     "data": {
      "image/png": "[encoded data removed]",
      "text/plain": [
       "<Figure size 576x432 with 1 Axes>"
      ]
     },
     "metadata": {
      "needs_background": "light"
     },
     "output_type": "display_data"
    }
   ],
   "source": [
    "%matplotlib inline\n",
    "import matplotlib.pyplot as plt # plotting\n",
    "\n",
    "# you can get this data easily from the dataframe \n",
    "# the index contains the data for the number of hands \n",
    "# this is the data for our Y axis\n",
    "# the X axis will the number of hands (ie the sample size / SAMPLE_SIZE_LIST)\n",
    "\n",
    "ratio_data = (df.Sigma/df.index.values).values\n",
    "\n",
    "\n",
    "fig = plt.figure(figsize=(8,6))\n",
    "ax = fig.add_subplot(1, 1, 1)\n",
    "\n",
    "# set log scale for axes\n",
    "ax.set_xscale('log')\n",
    "ax.set_yscale('log')\n",
    "\n",
    "# design\n",
    "ax.set_xticklabels(SAMPLE_SIZE_LIST)\n",
    "plt.title(\"Ratio of Sigma to Sample Size, log scale \\n\") \n",
    "plt.ylabel(\"Sigma / Hands\")\n",
    "plt.xlabel(\"Hands in Sample\")\n",
    "\n",
    "\n",
    "\n",
    "plt.plot(SAMPLE_SIZE_LIST, ratio_data)\n",
    "\n",
    "plt.show()\n",
    "\n",
    "\n"
   ]
  },
  {
   "cell_type": "code",
   "execution_count": null,
   "metadata": {},
   "outputs": [],
   "source": []
  }
 ],
 "metadata": {
  "kernelspec": {
   "display_name": "Python 3",
   "language": "python",
   "name": "python3"
  },
  "language_info": {
   "codemirror_mode": {
    "name": "ipython",
    "version": 3
   },
   "file_extension": ".py",
   "mimetype": "text/x-python",
   "name": "python",
   "nbconvert_exporter": "python",
   "pygments_lexer": "ipython3",
   "version": "3.7.3"
  }
 },
 "nbformat": 4,
 "nbformat_minor": 2
}
