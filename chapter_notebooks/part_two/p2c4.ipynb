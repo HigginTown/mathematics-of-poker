{
 "cells": [
  {
   "cell_type": "markdown",
   "metadata": {},
   "source": [
    "# Mathematics of Poker \n",
    "\n",
    "**Part II Chapter 4: Expoitive Play**<br>\n",
    "Pot Odds and Implied Odds\n",
    "\n",
    "\n",
    "----------------\n",
    "\n",
    "### Example 4.1: A Toy Game\n",
    "Two players plan heads up limit poker on the river. <br>\n",
    "\n",
    "Facts: \n",
    "The pot is 4 BB. <br>\n",
    "Player A has either the nuts (20% of the time) or valueless hand (80% of the time). <br>\n",
    "Player B always has a middle strength hand -- enough to beat the valueless hands, but of course not enough to beat the nuts. <br>\n",
    "Both Players know the each others' ranges. \n",
    "Player A plays first. <br>\n",
    "\n",
    "\n",
    "\n",
    "Now suppose that A checks. Now if B bets, A knows whether his hand is a winning hand. This means that he can play perfectly against B by raising all of his nutted hands and fold at least most of his valueless hands. So B cannot gain an edge by betting. \n",
    "\n",
    "So A will bet all of his nut hands first to act and some of his bluffs. <br>\n",
    "\n",
    "We can let his bluff frequency be equal to $x \\in [0,1]$ \n",
    "\n",
    "A selection of $x$ defines his strategy. \n",
    "\n",
    "Continue to consider B's strategy. We know that B _loses_ 1 BB by calling when he is beat and wins 5 BB when calling when he is winning. \n",
    "<br>5BB = 4BB Pot + 1BB bet. \n",
    "\n",
    "\n",
    "What is expectation of B calling 100% of the time for a given $x$? \n",
    "\n"
   ]
  },
  {
   "cell_type": "code",
   "execution_count": 2,
   "metadata": {},
   "outputs": [],
   "source": [
    "# this is equal to the sum of \n",
    "# the probability that A is betting with the nuts * -1BB\n",
    "# plus the probability that A is bluffing * 5BB\n",
    "\n",
    "\n",
    "def B_STRAT_EXP(x):\n",
    "    # val1 = p_nuts * -1\n",
    "    # val2 = p_bluff * 5\n",
    "    \n",
    "    return(.2 * -1) + 5*x\n",
    "    \n",
    "    "
   ]
  },
  {
   "cell_type": "markdown",
   "metadata": {},
   "source": [
    "Now we can make a table to view consider some of the scenarios across A's bluffing frequencies. "
   ]
  },
  {
   "cell_type": "code",
   "execution_count": 7,
   "metadata": {},
   "outputs": [],
   "source": [
    "import pandas as pd \n",
    "\n",
    "COLUMNS = ['x', 'B_CALL100_EV']\n",
    "\n",
    "# 0 to .8 is 100% of the range since 20% of the time, A has the nuts\n",
    "X_FREQUENCY_LIST = [0, 0.01, 0.02, 0.04, .1, .3, .5, .7, .8] \n",
    "\n",
    "def generate_data(frequency_list):\n",
    "    results = []\n",
    "    for x in frequency_list:\n",
    "        data = x, B_STRAT_EXP(x)\n",
    "        results.append(data)\n",
    "        \n",
    "    return results\n",
    "\n",
    "\n",
    "def make_chart(COLUMNS, data, frequency_list):\n",
    "    df = pd.DataFrame(data=data, columns=COLUMNS)\n",
    "    df.index = [\"A blufsf %:  \" + str(x) + \"  \" for x in frequency_list]\n",
    "    return df\n",
    "    "
   ]
  },
  {
   "cell_type": "code",
   "execution_count": 8,
   "metadata": {},
   "outputs": [
    {
     "data": {
      "text/html": [
       "<div>\n",
       "<style scoped>\n",
       "    .dataframe tbody tr th:only-of-type {\n",
       "        vertical-align: middle;\n",
       "    }\n",
       "\n",
       "    .dataframe tbody tr th {\n",
       "        vertical-align: top;\n",
       "    }\n",
       "\n",
       "    .dataframe thead th {\n",
       "        text-align: right;\n",
       "    }\n",
       "</style>\n",
       "<table border=\"1\" class=\"dataframe\">\n",
       "  <thead>\n",
       "    <tr style=\"text-align: right;\">\n",
       "      <th></th>\n",
       "      <th>x</th>\n",
       "      <th>B_CALL100_EV</th>\n",
       "    </tr>\n",
       "  </thead>\n",
       "  <tbody>\n",
       "    <tr>\n",
       "      <th>A blufsf %:  0</th>\n",
       "      <td>0.00</td>\n",
       "      <td>-0.20</td>\n",
       "    </tr>\n",
       "    <tr>\n",
       "      <th>A blufsf %:  0.01</th>\n",
       "      <td>0.01</td>\n",
       "      <td>-0.15</td>\n",
       "    </tr>\n",
       "    <tr>\n",
       "      <th>A blufsf %:  0.02</th>\n",
       "      <td>0.02</td>\n",
       "      <td>-0.10</td>\n",
       "    </tr>\n",
       "    <tr>\n",
       "      <th>A blufsf %:  0.04</th>\n",
       "      <td>0.04</td>\n",
       "      <td>0.00</td>\n",
       "    </tr>\n",
       "    <tr>\n",
       "      <th>A blufsf %:  0.1</th>\n",
       "      <td>0.10</td>\n",
       "      <td>0.30</td>\n",
       "    </tr>\n",
       "    <tr>\n",
       "      <th>A blufsf %:  0.3</th>\n",
       "      <td>0.30</td>\n",
       "      <td>1.30</td>\n",
       "    </tr>\n",
       "    <tr>\n",
       "      <th>A blufsf %:  0.5</th>\n",
       "      <td>0.50</td>\n",
       "      <td>2.30</td>\n",
       "    </tr>\n",
       "    <tr>\n",
       "      <th>A blufsf %:  0.7</th>\n",
       "      <td>0.70</td>\n",
       "      <td>3.30</td>\n",
       "    </tr>\n",
       "    <tr>\n",
       "      <th>A blufsf %:  0.8</th>\n",
       "      <td>0.80</td>\n",
       "      <td>3.80</td>\n",
       "    </tr>\n",
       "  </tbody>\n",
       "</table>\n",
       "</div>"
      ],
      "text/plain": [
       "                        x  B_CALL100_EV\n",
       "A blufsf %:  0       0.00         -0.20\n",
       "A blufsf %:  0.01    0.01         -0.15\n",
       "A blufsf %:  0.02    0.02         -0.10\n",
       "A blufsf %:  0.04    0.04          0.00\n",
       "A blufsf %:  0.1     0.10          0.30\n",
       "A blufsf %:  0.3     0.30          1.30\n",
       "A blufsf %:  0.5     0.50          2.30\n",
       "A blufsf %:  0.7     0.70          3.30\n",
       "A blufsf %:  0.8     0.80          3.80"
      ]
     },
     "execution_count": 8,
     "metadata": {},
     "output_type": "execute_result"
    }
   ],
   "source": [
    "df = make_chart(COLUMNS, data = generate_data(X_FREQUENCY_LIST), frequency_list=X_FREQUENCY_LIST)\n",
    "df"
   ]
  },
  {
   "cell_type": "markdown",
   "metadata": {},
   "source": [
    "Let's visualize how B's EV of calling 100% changes as A's bluff frequency varies for some more values. "
   ]
  },
  {
   "cell_type": "code",
   "execution_count": 43,
   "metadata": {},
   "outputs": [
    {
     "data": {
      "image/png": "[encoded data removed]",
      "text/plain": [
       "<Figure size 576x432 with 1 Axes>"
      ]
     },
     "metadata": {},
     "output_type": "display_data"
    }
   ],
   "source": [
    "%matplotlib inline\n",
    "import matplotlib.pyplot as plt\n",
    "plt.style.use('seaborn')\n",
    "\n",
    "df = make_chart(COLUMNS, data = generate_data([0, 0.01, 0.02, 0.04, .1, .15]), frequency_list=[0, 0.01, 0.02, 0.04, .1, .15])\n",
    "\n",
    "fig = plt.figure(figsize=(8,6))\n",
    "plt.plot(df.x, df.B_CALL100_EV, linewidth=3)\n",
    "plt.plot(df.x, [0 for i in df.x], 'r--', alpha=.35, label = 'B fold100% EV')\n",
    "plt.plot([0.04], [0], marker='o', markersize=10, color=\"green\", label='solution') # the intersection\n",
    "plt.legend(loc='upper left')\n",
    "\n",
    "plt.title(\"B's EV v A Bluffing Frequency \\n\")\n",
    "plt.xlabel(\"A Bluff Frequency %\")\n",
    "plt.ylabel(\"EV of B Calling 100% \")\n",
    "\n",
    "\n",
    "plt.savefig('Example-4.1-BluffFrequencyVEV.png')\n",
    "plt.show()"
   ]
  },
  {
   "cell_type": "markdown",
   "metadata": {},
   "source": [
    "### Pot Odds\n"
   ]
  },
  {
   "cell_type": "code",
   "execution_count": null,
   "metadata": {},
   "outputs": [],
   "source": []
  }
 ],
 "metadata": {
  "kernelspec": {
   "display_name": "Python 3",
   "language": "python",
   "name": "python3"
  },
  "language_info": {
   "codemirror_mode": {
    "name": "ipython",
    "version": 3
   },
   "file_extension": ".py",
   "mimetype": "text/x-python",
   "name": "python",
   "nbconvert_exporter": "python",
   "pygments_lexer": "ipython3",
   "version": "3.7.3"
  }
 },
 "nbformat": 4,
 "nbformat_minor": 2
}
