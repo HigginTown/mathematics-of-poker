{
 "cells": [
  {
   "cell_type": "markdown",
   "metadata": {},
   "source": [
    "# Mathematics of Poker \n",
    "\n",
    "**Part II Chapter 4: Expoitive Play**<br>\n",
    "Pot Odds and Implied Odds\n",
    "\n",
    "\n",
    "----------------\n",
    "\n",
    "#### Example 4.1: A Toy Game\n",
    "Two players plan heads up limit poker on the river. <br>\n",
    "\n",
    "Facts: \n",
    "The pot is 4 BB. <br>\n",
    "Player A has either the nuts (20% of the time) or valueless hand (80% of the time). <br>\n",
    "Player B always has a middle strength hand -- enough to beat the valueless hands, but of course not enough to beat the nuts. <br>\n",
    "Both Players know the each others' ranges. \n",
    "Player A plays first. <br>\n",
    "\n",
    "\n",
    "\n",
    "Now suppose that A checks. Now if B bets, A knows whether his hand is a winning hand. This means that he can play perfectly against B by raising all of his nutted hands and fold at least most of his valueless hands. So B cannot gain an edge by betting. \n",
    "\n",
    "So A will bet all of his nut hands first to act and some of his bluffs. <br>\n",
    "\n",
    "We can let his bluff frequency be equal to $x \\in [0,1]$ \n",
    "\n",
    "A selection of $x$ defines his strategy. \n",
    "\n",
    "Continue to consider B's strategy. We know that B _loses_ 1 BB by calling when he is beat and wins 5 BB when calling when he is winning. \n",
    "<br>5BB = 4BB Pot + 1BB bet. \n",
    "\n",
    "\n",
    "What is expectation of B calling 100% of the time for a given $x$? \n",
    "\n"
   ]
  },
  {
   "cell_type": "code",
   "execution_count": 114,
   "metadata": {},
   "outputs": [],
   "source": [
    "# this is equal to the sum of \n",
    "# the probability that A is betting with the nuts * -1BB\n",
    "# plus the probability that A is bluffing * 5BB\n",
    "\n",
    "\n",
    "def B_STRAT_EXP(x):\n",
    "    # val1 = p_nuts * -1\n",
    "    # val2 = p_bluff * 5\n",
    "    \n",
    "    return(.2 * -1) + 5*x\n",
    "    \n",
    "    "
   ]
  },
  {
   "cell_type": "markdown",
   "metadata": {},
   "source": [
    "Now we can make a table to view consider some of the scenarios across A's bluffing frequencies. "
   ]
  },
  {
   "cell_type": "code",
   "execution_count": 116,
   "metadata": {},
   "outputs": [],
   "source": [
    "import pandas as pd \n",
    "\n",
    "COLUMNS = ['x', 'B_CALL100_EV']\n",
    "\n",
    "# 0 to .8 is 100% of the range since 20% of the time, A has the nuts\n",
    "X_FREQUENCY_LIST = [0, 0.01, 0.02, 0.04, .1, .3, .5, .7, .8] \n",
    "\n",
    "def generate_data(frequency_list):\n",
    "    results = []\n",
    "    for x in frequency_list:\n",
    "        data = x, B_STRAT_EXP(x)\n",
    "        results.append(data)\n",
    "        \n",
    "    return results\n",
    "\n",
    "\n",
    "def make_chart(COLUMNS, data, frequency_list):\n",
    "    df = pd.DataFrame(data=data, columns=COLUMNS)\n",
    "    df.index = [\"A blufsf %:  \" + str(x) + \"  \" for x in frequency_list]\n",
    "    return df\n",
    "    "
   ]
  },
  {
   "cell_type": "code",
   "execution_count": 117,
   "metadata": {},
   "outputs": [
    {
     "data": {
      "text/html": [
       "<div>\n",
       "<style scoped>\n",
       "    .dataframe tbody tr th:only-of-type {\n",
       "        vertical-align: middle;\n",
       "    }\n",
       "\n",
       "    .dataframe tbody tr th {\n",
       "        vertical-align: top;\n",
       "    }\n",
       "\n",
       "    .dataframe thead th {\n",
       "        text-align: right;\n",
       "    }\n",
       "</style>\n",
       "<table border=\"1\" class=\"dataframe\">\n",
       "  <thead>\n",
       "    <tr style=\"text-align: right;\">\n",
       "      <th></th>\n",
       "      <th>x</th>\n",
       "      <th>B_CALL100_EV</th>\n",
       "    </tr>\n",
       "  </thead>\n",
       "  <tbody>\n",
       "    <tr>\n",
       "      <th>A blufsf %:  0</th>\n",
       "      <td>0.00</td>\n",
       "      <td>-0.20</td>\n",
       "    </tr>\n",
       "    <tr>\n",
       "      <th>A blufsf %:  0.01</th>\n",
       "      <td>0.01</td>\n",
       "      <td>-0.15</td>\n",
       "    </tr>\n",
       "    <tr>\n",
       "      <th>A blufsf %:  0.02</th>\n",
       "      <td>0.02</td>\n",
       "      <td>-0.10</td>\n",
       "    </tr>\n",
       "    <tr>\n",
       "      <th>A blufsf %:  0.04</th>\n",
       "      <td>0.04</td>\n",
       "      <td>0.00</td>\n",
       "    </tr>\n",
       "    <tr>\n",
       "      <th>A blufsf %:  0.1</th>\n",
       "      <td>0.10</td>\n",
       "      <td>0.30</td>\n",
       "    </tr>\n",
       "    <tr>\n",
       "      <th>A blufsf %:  0.3</th>\n",
       "      <td>0.30</td>\n",
       "      <td>1.30</td>\n",
       "    </tr>\n",
       "    <tr>\n",
       "      <th>A blufsf %:  0.5</th>\n",
       "      <td>0.50</td>\n",
       "      <td>2.30</td>\n",
       "    </tr>\n",
       "    <tr>\n",
       "      <th>A blufsf %:  0.7</th>\n",
       "      <td>0.70</td>\n",
       "      <td>3.30</td>\n",
       "    </tr>\n",
       "    <tr>\n",
       "      <th>A blufsf %:  0.8</th>\n",
       "      <td>0.80</td>\n",
       "      <td>3.80</td>\n",
       "    </tr>\n",
       "  </tbody>\n",
       "</table>\n",
       "</div>"
      ],
      "text/plain": [
       "                        x  B_CALL100_EV\n",
       "A blufsf %:  0       0.00         -0.20\n",
       "A blufsf %:  0.01    0.01         -0.15\n",
       "A blufsf %:  0.02    0.02         -0.10\n",
       "A blufsf %:  0.04    0.04          0.00\n",
       "A blufsf %:  0.1     0.10          0.30\n",
       "A blufsf %:  0.3     0.30          1.30\n",
       "A blufsf %:  0.5     0.50          2.30\n",
       "A blufsf %:  0.7     0.70          3.30\n",
       "A blufsf %:  0.8     0.80          3.80"
      ]
     },
     "execution_count": 117,
     "metadata": {},
     "output_type": "execute_result"
    }
   ],
   "source": [
    "df = make_chart(COLUMNS, data = generate_data(X_FREQUENCY_LIST), frequency_list=X_FREQUENCY_LIST)\n",
    "df"
   ]
  },
  {
   "cell_type": "markdown",
   "metadata": {},
   "source": [
    "Let's visualize how B's EV of calling 100% changes as A's bluff frequency varies for some more values. "
   ]
  },
  {
   "cell_type": "code",
   "execution_count": 118,
   "metadata": {},
   "outputs": [
    {
     "data": {
      "image/png": "[encoded data removed]",
      "text/plain": [
       "<Figure size 576x432 with 1 Axes>"
      ]
     },
     "metadata": {},
     "output_type": "display_data"
    }
   ],
   "source": [
    "%matplotlib inline\n",
    "import matplotlib.pyplot as plt\n",
    "plt.style.use('seaborn')\n",
    "\n",
    "df = make_chart(COLUMNS, data = generate_data([0, 0.01, 0.02, 0.04, .1, .15]), frequency_list=[0, 0.01, 0.02, 0.04, .1, .15])\n",
    "\n",
    "fig = plt.figure(figsize=(8,6))\n",
    "plt.plot(df.x*100, df.B_CALL100_EV, linewidth=3)\n",
    "plt.plot(df.x*100, [0 for i in df.x], 'r--', alpha=.35, label = 'B fold EV')\n",
    "plt.plot([4], [0], marker='o', markersize=10, color=\"green\", label='solution') # the intersection\n",
    "plt.legend(loc='upper left')\n",
    "\n",
    "plt.title(\"B's EV v A Bluffing Frequency \\n\")\n",
    "plt.xlabel(\"A Bluff Frequency %\")\n",
    "plt.ylabel(\"EV of B Calling 100% \")\n",
    "\n",
    "\n",
    "plt.savefig('Example-4.1-BluffFrequencyVEV.png')\n",
    "plt.show()"
   ]
  },
  {
   "cell_type": "markdown",
   "metadata": {},
   "source": [
    "You can conclude that the optimal bluffing frequency for A is less than or equal 4%. If he bluffs anymore than this, B will start to call profitably 100%. "
   ]
  },
  {
   "cell_type": "markdown",
   "metadata": {},
   "source": [
    "### Pot Odds. Example 4.2\n",
    "\n",
    "The game is 30-60 Limit Holdem. <br>\n",
    "Player A has AcAd. Player B has 9h8h. <br>\n",
    "\n",
    "The board is:    Kh, 2h, 3h, 7c, __ <br>\n",
    "\n",
    "The pot is 400. <br>\n",
    "\n",
    "Suppose that the _cards are face up_ so both players know one another's cards. This implies that there will be no bluffing nor calling on the river, so we're only concerned with this street. Remember that since this is Limit, A can only bet a Maximum of 60. <br>\n",
    "\n",
    "Similarly, there are 9 out of 44 remaining cards that give B the win (the remaining 9 hearts) and the any of the remaining 35 cards means A wins. \n",
    "\n",
    "Let's reason about the strategies for A and B and calculate their value. \n",
    "\n",
    "First suppose that A checks. Note B will bet with a frequency of 0%, since B is always getting called by a better hand when betting. \n",
    "\n",
    "So let's calculate the value of A checking 100% to start. "
   ]
  },
  {
   "cell_type": "code",
   "execution_count": 119,
   "metadata": {},
   "outputs": [
    {
     "name": "stdout",
     "output_type": "stream",
     "text": [
      "A CHECK Value:  318.18\n"
     ]
    }
   ],
   "source": [
    "# let's calculate the value of a strategy where A checks 100% of the time. \n",
    "\n",
    "# A_CHECK = prob(A wins) * (pot size) since B will never bet the turn with a worse hand. \n",
    "\n",
    "A_CHECK = (35/44) * (400)\n",
    "print(\"A CHECK Value: \", round(A_CHECK,2))"
   ]
  },
  {
   "cell_type": "markdown",
   "metadata": {},
   "source": [
    "The value of A checking is about 318.18 <br>\n",
    "\n",
    "Now we can evaluate a strategy where B only calls. "
   ]
  },
  {
   "cell_type": "code",
   "execution_count": 120,
   "metadata": {},
   "outputs": [
    {
     "name": "stdout",
     "output_type": "stream",
     "text": [
      "B CALL Value:  46.36\n"
     ]
    }
   ],
   "source": [
    "# B_CALL = p(B wins) * (new pot size) - (size of A's bet)\n",
    "# the size of A's bet and the cost of a call are equivalent\n",
    "\n",
    "B_CALL = (9/44) * (400 + 60 + 60) - (60)\n",
    "print(\"B CALL Value: \", round(B_CALL, 2))"
   ]
  },
  {
   "cell_type": "markdown",
   "metadata": {},
   "source": [
    "You can see that the expectation (or value of the strategy) for B here is +46.36. In our framework, the EV of folding is 0. So B should choose calling since 46.36 (call) > 0 (fold). \n",
    "\n",
    "<br>\n",
    "Now calculate the value of A betting. \n",
    "\n",
    "We could divide this scenario into parts, one where B calls and one where B folds. <br> \n",
    "But, since we expect B to fold with a frequency of 0%, we can only concern ourselves with the former. "
   ]
  },
  {
   "cell_type": "code",
   "execution_count": 121,
   "metadata": {},
   "outputs": [
    {
     "name": "stdout",
     "output_type": "stream",
     "text": [
      "A BET Value:  353.64\n"
     ]
    }
   ],
   "source": [
    "# A_BET  = prob(A win) * (new pot size) -  (bet size)\n",
    "\n",
    "A_BET = (35/44) * (400 + 60 + 60) -  60\n",
    "\n",
    "print(\"A BET Value: \", round(A_BET,2))"
   ]
  },
  {
   "cell_type": "markdown",
   "metadata": {},
   "source": [
    "Notice that the value to A of betting is larger than the value we obtained by evaluating A checking. \n",
    "\n",
    "353.64 (A BET) > 318.18 (A CHECK)\n",
    "\n",
    "In this scenario, B has enough equity to call even though B is behind and A will always prefer betting to checking. <br>\n",
    "**So, what is the minimum equity B must have to prefer calling to folding?**\n",
    "\n",
    "Since we know that folding has an EV of 0, we plot B's EV of always calling as a function of his equity to visualize a solution."
   ]
  },
  {
   "cell_type": "code",
   "execution_count": 135,
   "metadata": {},
   "outputs": [
    {
     "name": "stdout",
     "output_type": "stream",
     "text": [
      "VERIFY Flush EV with 9 outs:  46.36\n"
     ]
    }
   ],
   "source": [
    "# create a function which calculates the EV of B's strategy of always calling given some equity, \n",
    "\n",
    "def B_CALL_EV_GIVEN_EQUITY(equity, POT_SIZE = 400, BET_SIZE = 60):\n",
    "    \n",
    "    # same calculation as before\n",
    "    B_CALL_EV = equity * (POT_SIZE + BET_SIZE + BET_SIZE) - BET_SIZE\n",
    "    \n",
    "    return B_CALL_EV\n",
    "\n",
    "# let's verify this given our first calculation above with equity = 9/44\n",
    "\n",
    "# pretty print\n",
    "print(\"VERIFY Flush EV with 9 outs: \", round(B_CALL_EV_GIVEN_EQUITY(9/44), 2)) \n"
   ]
  },
  {
   "cell_type": "code",
   "execution_count": 147,
   "metadata": {},
   "outputs": [],
   "source": [
    "# now that the function seems to be working correctly, let's plot this for some equities\n",
    "\n",
    "def make_chart(equity_list):\n",
    "    EV_ARRAY = []\n",
    "    for equity in equity_list:\n",
    "        EV_ARRAY.append(B_CALL_EV_GIVEN_EQUITY(equity))\n",
    "        \n",
    "    # for pretty printing\n",
    "    EV_ARRAY = [round(i, 2) for i in EV_ARRAY]\n",
    "    \n",
    "    COLUMNS = ['B_EV_CALL']\n",
    "    INDEX = [round(i*100, 1) for i in equity_list]\n",
    "    \n",
    "    df = pd.DataFrame(data = EV_ARRAY, index=INDEX, columns=COLUMNS)\n",
    "    df.index.name = 'EQUITY %'\n",
    "    return df\n",
    "  \n",
    "import numpy as np\n",
    "# create some equities \n",
    "equities = np.linspace(start=0, stop=.5, num=9)\n",
    "df = make_chart(equities)    "
   ]
  },
  {
   "cell_type": "code",
   "execution_count": 148,
   "metadata": {},
   "outputs": [
    {
     "data": {
      "text/html": [
       "<div>\n",
       "<style scoped>\n",
       "    .dataframe tbody tr th:only-of-type {\n",
       "        vertical-align: middle;\n",
       "    }\n",
       "\n",
       "    .dataframe tbody tr th {\n",
       "        vertical-align: top;\n",
       "    }\n",
       "\n",
       "    .dataframe thead th {\n",
       "        text-align: right;\n",
       "    }\n",
       "</style>\n",
       "<table border=\"1\" class=\"dataframe\">\n",
       "  <thead>\n",
       "    <tr style=\"text-align: right;\">\n",
       "      <th></th>\n",
       "      <th>B_EV_CALL</th>\n",
       "    </tr>\n",
       "    <tr>\n",
       "      <th>EQUITY %</th>\n",
       "      <th></th>\n",
       "    </tr>\n",
       "  </thead>\n",
       "  <tbody>\n",
       "    <tr>\n",
       "      <th>0.0</th>\n",
       "      <td>-60.0</td>\n",
       "    </tr>\n",
       "    <tr>\n",
       "      <th>6.2</th>\n",
       "      <td>-27.5</td>\n",
       "    </tr>\n",
       "    <tr>\n",
       "      <th>12.5</th>\n",
       "      <td>5.0</td>\n",
       "    </tr>\n",
       "    <tr>\n",
       "      <th>18.8</th>\n",
       "      <td>37.5</td>\n",
       "    </tr>\n",
       "    <tr>\n",
       "      <th>25.0</th>\n",
       "      <td>70.0</td>\n",
       "    </tr>\n",
       "    <tr>\n",
       "      <th>31.2</th>\n",
       "      <td>102.5</td>\n",
       "    </tr>\n",
       "    <tr>\n",
       "      <th>37.5</th>\n",
       "      <td>135.0</td>\n",
       "    </tr>\n",
       "    <tr>\n",
       "      <th>43.8</th>\n",
       "      <td>167.5</td>\n",
       "    </tr>\n",
       "    <tr>\n",
       "      <th>50.0</th>\n",
       "      <td>200.0</td>\n",
       "    </tr>\n",
       "  </tbody>\n",
       "</table>\n",
       "</div>"
      ],
      "text/plain": [
       "          B_EV_CALL\n",
       "EQUITY %           \n",
       "0.0           -60.0\n",
       "6.2           -27.5\n",
       "12.5            5.0\n",
       "18.8           37.5\n",
       "25.0           70.0\n",
       "31.2          102.5\n",
       "37.5          135.0\n",
       "43.8          167.5\n",
       "50.0          200.0"
      ]
     },
     "execution_count": 148,
     "metadata": {},
     "output_type": "execute_result"
    }
   ],
   "source": [
    "df"
   ]
  },
  {
   "cell_type": "markdown",
   "metadata": {},
   "source": [
    "So, what is the solution? What is the minum equity that B must have to call profitably? We can see that this is when B's equity $x$ is somewhere $ 6.2 \\% < x < 12.5 \\% $  Let's calculate this directly. "
   ]
  },
  {
   "cell_type": "markdown",
   "metadata": {},
   "source": [
    "Find the minimum equity B must have to always call. This is when the function is equal to 0. <br>\n",
    "You can solve the inequality: $B_{equity} * new potsize - bet size > 0 $\n",
    "\n",
    "\n",
    "$$x * 520 - 60 > 0$$\n",
    "\n",
    "$$x > 60 / 520 $$\n",
    "\n",
    "$$x > 3 / 26 $$\n",
    "\n",
    "$$x \\gtrapprox 11.54 \\% $$"
   ]
  },
  {
   "cell_type": "code",
   "execution_count": 130,
   "metadata": {},
   "outputs": [
    {
     "data": {
      "image/png": "[encoded data removed]",
      "text/plain": [
       "<Figure size 576x432 with 1 Axes>"
      ]
     },
     "metadata": {},
     "output_type": "display_data"
    }
   ],
   "source": [
    "# let's plot this \n",
    "\n",
    "fig = plt.figure(figsize=(8,6))\n",
    "plt.plot(df.index.values*100, df.B_EV_CALL, linewidth=3)\n",
    "plt.plot(df.index.values*100, [0 for i in df.index.values], 'r--', alpha=.35, label = 'B fold EV')\n",
    "plt.plot([11.53], [0], marker='o', markersize=10, color=\"green\", label='solution') \n",
    "plt.legend(loc='upper left')\n",
    "\n",
    "plt.title(\"B's EV of CALLING as a Function of B EQUITY \\n\")\n",
    "plt.xlabel(\"B EQUITY %\")\n",
    "plt.ylabel(\"EV of B Calling\")\n",
    "\n",
    "\n",
    "plt.savefig('Example-4.2-POTODDS-CALLING-FREQ.png')\n",
    "plt.show()"
   ]
  },
  {
   "cell_type": "code",
   "execution_count": 139,
   "metadata": {},
   "outputs": [
    {
     "name": "stdout",
     "output_type": "stream",
     "text": [
      "SOLUTION EQUITY:  11.54 %\n"
     ]
    }
   ],
   "source": [
    "# we can also use some functions from scipy\n",
    "from scipy.optimize import fsolve\n",
    "\n",
    "starting_guess = 0.0 # lower bound equity to start checking\n",
    "\n",
    "answer = fsolve(B_CALL_EV_GIVEN_EQUITY, starting_guess)[0]\n",
    "print (\"SOLUTION EQUITY: \", round(answer*100, 2), \"%\")"
   ]
  },
  {
   "cell_type": "markdown",
   "metadata": {},
   "source": [
    "This is the minimum equity that B must have to call profitably. "
   ]
  },
  {
   "cell_type": "markdown",
   "metadata": {},
   "source": [
    "### "
   ]
  }
 ],
 "metadata": {
  "kernelspec": {
   "display_name": "Python 3",
   "language": "python",
   "name": "python3"
  },
  "language_info": {
   "codemirror_mode": {
    "name": "ipython",
    "version": 3
   },
   "file_extension": ".py",
   "mimetype": "text/x-python",
   "name": "python",
   "nbconvert_exporter": "python",
   "pygments_lexer": "ipython3",
   "version": "3.7.3"
  }
 },
 "nbformat": 4,
 "nbformat_minor": 2
}
