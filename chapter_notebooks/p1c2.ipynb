{
 "cells": [
  {
   "cell_type": "markdown",
   "metadata": {},
   "source": [
    "# Mathematics of Poker\n",
    "\n",
    "### Part 1, Chapter 2:  Predicting the Future and Sample Outcomes\n",
    "\n",
    "-----------------------\n",
    "\n",
    "#### Calculating Winning Sessions from Player Stats\n",
    "Page 28"
   ]
  },
  {
   "cell_type": "code",
   "execution_count": 33,
   "metadata": {},
   "outputs": [
    {
     "data": {
      "text/plain": [
       "0.5516787352796411"
      ]
     },
     "execution_count": 33,
     "metadata": {},
     "output_type": "execute_result"
    }
   ],
   "source": [
    "\n",
    "from scipy.stats import norm # for norm.cdf to calculate the cumulative normal distribution function\n",
    "from numpy import std, sqrt # standard deviations, square root functions for probability calculations\n",
    "\n",
    "def win_session_probability(winrate, standard_deviation, hands_played, greater_than=0):\n",
    "    \"\"\"Calculate the probability that a given poker session will be a winning one given some player statitics\n",
    "    \n",
    "    Parameters\n",
    "    ----------\n",
    "    \n",
    "    winrate: float\n",
    "        the player winrate in units per hand. This is also the expectation. \n",
    "        \n",
    "    standard_deviation: float \n",
    "        the standardard deviation over the same interval of hands used to calculate the winrate\n",
    "        for example, if you have play 10 hands and have winnings of [0, 1, 1, 0, -2, 10, -2, 0, 0, 1] = 9 units\n",
    "        then your winrate = 9 / 10 => 0.9 units per hand and your standard deviation is 3.38\n",
    "        \n",
    "    hands_played: int\n",
    "        the number of hands for which we will provide an estimate\n",
    "        \n",
    "    greater_than: int\n",
    "        default to 0\n",
    "        The outcome we are interested in\n",
    "        if set to x, this function returns the probability that the player earns greater than x units\n",
    "        \n",
    "        \n",
    "    Returns\n",
    "    -------\n",
    "    \n",
    "    probability: float\n",
    "        the probability the player has a winning session. \n",
    "        This is equal to:\n",
    "            1 - phi(z_score)    \n",
    "    \"\"\"\n",
    "    \n",
    "    # first we need to get the expectation over the sample \n",
    "    # this is just equal to the winrate * sample_size\n",
    "    \n",
    "    expected_value_over_sample = winrate * hands_played\n",
    "\n",
    "    \n",
    "    \n",
    "    # next we will calculate the standard deviation over hands_played\n",
    "    \n",
    "    sigma_over_hands = sqrt(hands_played) * standard_deviation\n",
    "    \n",
    "    \n",
    "    \n",
    "    # now that we have both of these values, we can calculate the z-score\n",
    "    # the z-score is passed into the CDF to get the probability estimate\n",
    "    \n",
    "    z_score = (greater_than - expected_value_over_sample) / sigma_over_hands # 0 here because we care only about winning or losing\n",
    "    \n",
    "    \n",
    "    # pass that to the CDF function\n",
    "    \n",
    "    phi_of_z = norm.cdf(z_score)\n",
    "    \n",
    "    \n",
    "    # we take 1 - phi_of_z because that function returns the probability that the outcome will be LESS than 0\n",
    "    return 1-phi_of_z\n",
    "\n",
    "\n",
    "\n",
    "# verify against the page in the book\n",
    "win_session_probability(0.015, 2, 300)\n",
    "\n",
    "# 0.5517 is correct"
   ]
  },
  {
   "cell_type": "markdown",
   "metadata": {},
   "source": [
    "Now we can answer some questions. \n",
    "\n",
    "**What is the probability a player with these statistics wins 100 units over 3000 hands?**"
   ]
  },
  {
   "cell_type": "code",
   "execution_count": 3,
   "metadata": {},
   "outputs": [
    {
     "data": {
      "text/plain": [
       "0.30780597184951286"
      ]
     },
     "execution_count": 3,
     "metadata": {},
     "output_type": "execute_result"
    }
   ],
   "source": [
    "win_session_probability(winrate=0.015, standard_deviation=2, hands_played=3000, greater_than=100)"
   ]
  },
  {
   "cell_type": "markdown",
   "metadata": {},
   "source": [
    "This player should expect to win more than 100 units over 3000 hands about 30% of the time with a winrate of 0.015 units per hands and a standard deviation of 2 over the same interval. "
   ]
  },
  {
   "cell_type": "markdown",
   "metadata": {},
   "source": [
    "#### Heads Up All In: The AK v AQ 50/50 Story\n",
    "---------------\n",
    "\n",
    "One player claimed that over a sample of around 2000 hands, AK v AQ were running 50-50. Is this player telling the truth? is the site rigged? we don't know, but how likely is this? "
   ]
  },
  {
   "cell_type": "code",
   "execution_count": 30,
   "metadata": {},
   "outputs": [],
   "source": [
    "# AK v AQ is about 73.5% all in preflop. \n",
    "# If we assign a value of 1 when AK wins and 0 when AQ wins, then the expectation (or mean) is 0.735\n",
    "# we'll get the probability that AQ wins 50% or more of the time\n",
    "\n",
    "\n",
    "def check_ak_aq():\n",
    "    \"\"\"Proceed as we did in the equation above\"\"\"\n",
    "    \n",
    "    NUM_HANDS = 2000\n",
    "    \n",
    "    \n",
    "    # first we get the mean\n",
    "    expectation = 0.735\n",
    "    expectation_over_sample = expectation * NUM_HANDS # since this scenario has 2000 hands \n",
    "    \n",
    "    # next we need to calculate the standard deviation over this sample \n",
    "    # Variance = prob_win*(1-expectation)^2 + prob_lose(0-expectation)^2 => sigma^2\n",
    "    \n",
    "    variance = 0.735 * (1-expectation)**2 + (1 - 0.735) * (0 - expectation )**2\n",
    "    sigma = sqrt(variance)\n",
    "    \n",
    "    sigma_over_hands = sqrt(NUM_HANDS) * sigma\n",
    "                        \n",
    "        \n",
    "    # then we get the z score\n",
    "    # we use NUM_HANDS*.5 = 1000 here because we are interested in the chance that AQ wins more than 50% or 1000 hands\n",
    "    \n",
    "    z_score = (1000 - expectation_over_sample) / sigma_over_hands\n",
    "    print(\"Number of Standard Deviations from the mean estimate:\", abs(z_score), \"\\n\")\n",
    "    \n",
    "    # then we calculate phi(z_score)\n",
    "    \n",
    "    print(\"Probability: \")                    \n",
    "    return norm.cdf(z_score)\n",
    "    "
   ]
  },
  {
   "cell_type": "code",
   "execution_count": 32,
   "metadata": {},
   "outputs": [
    {
     "name": "stdout",
     "output_type": "stream",
     "text": [
      "Number of Standard Deviations from the mean estimate: 23.81311742871408 \n",
      "\n",
      "Probability: \n"
     ]
    },
    {
     "data": {
      "text/plain": [
       "1.221311050119768e-125"
      ]
     },
     "execution_count": 32,
     "metadata": {},
     "output_type": "execute_result"
    }
   ],
   "source": [
    "# check the results\n",
    "check_ak_aq()"
   ]
  },
  {
   "cell_type": "code",
   "execution_count": null,
   "metadata": {},
   "outputs": [],
   "source": []
  }
 ],
 "metadata": {
  "kernelspec": {
   "display_name": "Python 3",
   "language": "python",
   "name": "python3"
  },
  "language_info": {
   "codemirror_mode": {
    "name": "ipython",
    "version": 3
   },
   "file_extension": ".py",
   "mimetype": "text/x-python",
   "name": "python",
   "nbconvert_exporter": "python",
   "pygments_lexer": "ipython3",
   "version": "3.7.3"
  }
 },
 "nbformat": 4,
 "nbformat_minor": 2
}
